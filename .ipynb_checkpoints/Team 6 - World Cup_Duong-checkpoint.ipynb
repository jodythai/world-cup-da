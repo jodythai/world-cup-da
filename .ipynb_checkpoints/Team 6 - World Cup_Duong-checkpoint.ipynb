{
 "cells": [
  {
   "cell_type": "markdown",
   "metadata": {
    "colab_type": "text",
    "id": "8WRzBob8u0tk"
   },
   "source": [
    "# Team 6 - World Cup\n",
    "\n",
    "![](https://img.fifa.com/image/upload/t_l4/v1543921822/ex1ksdevyxwsgu7rzdv6.jpg)\n",
    "\n",
    "_For more information about the dataset, read [here](https://www.kaggle.com/abecklas/fifa-world-cup)._\n",
    "\n",
    "## Your tasks\n",
    "- Name your team!\n",
    "- Read the source and do some quick research to understand more about the dataset and its topic\n",
    "- Clean the data\n",
    "- Perform Exploratory Data Analysis on the dataset\n",
    "- Analyze the data more deeply and extract insights\n",
    "- Visualize your analysis on Google Data Studio\n",
    "- Present your works in front of the class and guests next Monday\n",
    "\n",
    "## Submission Guide\n",
    "- Create a Github repository for your project\n",
    "- Upload the dataset (.csv file) and the Jupyter Notebook to your Github repository. In the Jupyter Notebook, **include the link to your Google Data Studio report**.\n",
    "- Submit your works through this [Google Form](https://forms.gle/oxtXpGfS8JapVj3V8).\n",
    "\n",
    "## Tips for Data Cleaning, Manipulation & Visualization\n",
    "- Here are some of our tips for Data Cleaning, Manipulation & Visualization. [Click here](https://hackmd.io/cBNV7E6TT2WMliQC-GTw1A)\n",
    "\n",
    "_____________________________\n",
    "\n",
    "## Some Hints for This Dataset:\n",
    "- Is there a way to integrate the data from all 3 datasets?\n",
    "- It seems like the `winners` dataset doesn't have data of World Cup 2018. Can you Google the relevant information and add it to the dataset using `pandas`?\n",
    "- The format of some number columns in `matches` dataset doesn't look right.\n",
    "- Can you seperate the Date and the Time of `Datetime` column in `matches` dataset?\n",
    "- And more..."
   ]
  },
  {
   "cell_type": "markdown",
   "metadata": {
    "colab_type": "text",
    "id": "rOfJG--Qv50C"
   },
   "source": [
    "### Import libraries"
   ]
  },
  {
   "cell_type": "code",
   "execution_count": 1,
   "metadata": {
    "colab": {},
    "colab_type": "code",
    "id": "TAQXShkuu0tl"
   },
   "outputs": [],
   "source": [
    "import numpy as np\n",
    "import pandas as pd\n",
    "import seaborn as sns\n",
    "import re\n",
    "import matplotlib.pyplot as plt\n",
    "%matplotlib inline\n",
    "import warnings\n",
    "warnings.filterwarnings('ignore')\n",
    "\n",
    "sns.set_style(\"whitegrid\")"
   ]
  },
  {
   "cell_type": "code",
   "execution_count": 2,
   "metadata": {
    "colab": {
     "base_uri": "https://localhost:8080/",
     "height": 34
    },
    "colab_type": "code",
    "executionInfo": {
     "elapsed": 1203,
     "status": "ok",
     "timestamp": 1564734876442,
     "user": {
      "displayName": "Jody Thai",
      "photoUrl": "https://lh3.googleusercontent.com/-LpV78qt_WbM/AAAAAAAAAAI/AAAAAAAAAJU/cSDgYdKtTQs/s64/photo.jpg",
      "userId": "15371680425307616747"
     },
     "user_tz": -420
    },
    "id": "6rKyS6t3u5qE",
    "outputId": "3a6fc9d4-9beb-43f3-cf83-196b0a253c9e"
   },
   "outputs": [],
   "source": [
    "# from google.colab import drive\n",
    "# drive.mount('/content/gdrive')"
   ]
  },
  {
   "cell_type": "markdown",
   "metadata": {
    "colab_type": "text",
    "id": "v4jjTEySwA4q"
   },
   "source": [
    "### Create Data Frames"
   ]
  },
  {
   "cell_type": "code",
   "execution_count": 3,
   "metadata": {
    "colab": {},
    "colab_type": "code",
    "id": "dYVODMz9u84l"
   },
   "outputs": [],
   "source": [
    "# df_matches_raw = pd.read_csv('/content/gdrive/My Drive/PROJECTS/CoderSchool_Fansipan/github_repo/world-cup-da/data/matches.csv', encoding='utf-8')\n",
    "# df_players_raw = pd.read_csv('/content/gdrive/My Drive/PROJECTS/CoderSchool_Fansipan/github_repo/world-cup-da/data/players.csv', encoding='utf-8')\n",
    "\n",
    "df_matches_raw = pd.read_csv('/Users/jodythai/Google Drive/PROJECTS/CoderSchool_Fansipan/github_repo/world-cup-da/data/matches.csv', encoding='ISO 8859-2')\n",
    "df_winners_raw = pd.read_csv('/Users/jodythai/Google Drive/PROJECTS/CoderSchool_Fansipan/github_repo/world-cup-da/data/winners.csv', encoding='ISO 8859-2')\n",
    "df_players_raw = pd.read_csv('/Users/jodythai/Google Drive/PROJECTS/CoderSchool_Fansipan/github_repo/world-cup-da/data/players.csv', encoding='ISO 8859-2')"
   ]
  },
  {
   "cell_type": "markdown",
   "metadata": {
    "colab_type": "text",
    "id": "tTXxqXc1wUp2"
   },
   "source": [
    "# Clean Data"
   ]
  },
  {
   "cell_type": "code",
   "execution_count": null,
   "metadata": {},
   "outputs": [],
   "source": [
    "# Because the Event column store multiple data in one data point, \n",
    "# we will split its string into multiple data points in order to extract more valuable insights\n",
    "df_players_raw = df_players_raw.assign(Event=df_players_raw[\"Event\"].str.split('\\s')).explode('Event').reset_index(drop=True)\n",
    "\n",
    "# Define helper functions\n",
    "def get_event_type(row):\n",
    "  \"\"\" Return only the words from Event rows\n",
    "  \"\"\"\n",
    "  event_type = ''\n",
    "  if pd.notna(row):\n",
    "    event_type = re.findall(r\"[A-Z]+\", row)[0]\n",
    "  return event_type\n",
    "\n",
    "def get_event_at(row):\n",
    "  \"\"\" Return only the numbers from Event rows\n",
    "  \"\"\"\n",
    "  event_at = ''\n",
    "  if pd.notna(row):\n",
    "    event_at = re.findall(r\"\\d+\", row)[0]\n",
    "  return event_at\n",
    "\n",
    "# Proceeding the string manipulation\n",
    "df_players_raw[\"Event At\"] = df_players_raw.apply(lambda x: get_event_at(x['Event']) , axis=1)\n",
    "df_players_raw[\"Event\"] = df_players_raw.apply(lambda x: get_event_type(x['Event']) , axis=1)\n",
    "\n",
    "# Rename Event column to Event Type\n",
    "df_players_raw.rename(columns={'Event': 'Event Type'}, inplace=True)\n",
    "\n",
    "# Test\n",
    "df_players_raw[df_players_raw['Event Type'] != \"\"].sample(10)"
   ]
  },
  {
   "cell_type": "code",
   "execution_count": null,
   "metadata": {
    "colab": {
     "base_uri": "https://localhost:8080/",
     "height": 267
    },
    "colab_type": "code",
    "executionInfo": {
     "elapsed": 1492,
     "status": "ok",
     "timestamp": 1564734876757,
     "user": {
      "displayName": "Jody Thai",
      "photoUrl": "https://lh3.googleusercontent.com/-LpV78qt_WbM/AAAAAAAAAAI/AAAAAAAAAJU/cSDgYdKtTQs/s64/photo.jpg",
      "userId": "15371680425307616747"
     },
     "user_tz": -420
    },
    "id": "o_Vd_CrmvGcr",
    "outputId": "b4fe4ff2-d892-466b-c066-7b65a448f9ce"
   },
   "outputs": [],
   "source": [
    "df_matches_raw.tail()"
   ]
  },
  {
   "cell_type": "code",
   "execution_count": null,
   "metadata": {
    "colab": {
     "base_uri": "https://localhost:8080/",
     "height": 107
    },
    "colab_type": "code",
    "executionInfo": {
     "elapsed": 1482,
     "status": "ok",
     "timestamp": 1564734876758,
     "user": {
      "displayName": "Jody Thai",
      "photoUrl": "https://lh3.googleusercontent.com/-LpV78qt_WbM/AAAAAAAAAAI/AAAAAAAAAJU/cSDgYdKtTQs/s64/photo.jpg",
      "userId": "15371680425307616747"
     },
     "user_tz": -420
    },
    "id": "sDgSKb0IvQ2x",
    "outputId": "8ab661d2-02d1-4757-e30a-6f00819b51d6"
   },
   "outputs": [],
   "source": [
    "df_players_raw.head(2)"
   ]
  },
  {
   "cell_type": "code",
   "execution_count": null,
   "metadata": {
    "colab": {
     "base_uri": "https://localhost:8080/",
     "height": 197
    },
    "colab_type": "code",
    "executionInfo": {
     "elapsed": 1476,
     "status": "ok",
     "timestamp": 1564734876759,
     "user": {
      "displayName": "Jody Thai",
      "photoUrl": "https://lh3.googleusercontent.com/-LpV78qt_WbM/AAAAAAAAAAI/AAAAAAAAAJU/cSDgYdKtTQs/s64/photo.jpg",
      "userId": "15371680425307616747"
     },
     "user_tz": -420
    },
    "id": "tL1N8y6vvSwh",
    "outputId": "1524cc24-7cda-405c-fa40-03ac2b4cd49b"
   },
   "outputs": [],
   "source": [
    "df_winners_raw.head(5)"
   ]
  },
  {
   "cell_type": "markdown",
   "metadata": {
    "colab_type": "text",
    "id": "ZBGXIvn_YkKZ"
   },
   "source": [
    "#### Remove NaN"
   ]
  },
  {
   "cell_type": "code",
   "execution_count": null,
   "metadata": {
    "colab": {
     "base_uri": "https://localhost:8080/",
     "height": 390
    },
    "colab_type": "code",
    "executionInfo": {
     "elapsed": 1463,
     "status": "ok",
     "timestamp": 1564734876760,
     "user": {
      "displayName": "Jody Thai",
      "photoUrl": "https://lh3.googleusercontent.com/-LpV78qt_WbM/AAAAAAAAAAI/AAAAAAAAAJU/cSDgYdKtTQs/s64/photo.jpg",
      "userId": "15371680425307616747"
     },
     "user_tz": -420
    },
    "id": "v09l_ASAnL5g",
    "outputId": "3f965323-4b02-4f50-8655-a3f237401700"
   },
   "outputs": [],
   "source": [
    "# Remove null rows of Matches dataset\n",
    "# Get data when RoundID is null\n",
    "df_matches = df_matches_raw.copy()\n",
    "df_players = df_players_raw.copy()\n",
    "df_winners = df_winners_raw.copy()\n",
    "\n",
    "df_matches = df_matches[(df_matches[\"RoundID\"].isnull() == False) & (df_matches[\"MatchID\"].isnull() == False)]\n",
    "\n",
    "# Find NaN values from the data points\n",
    "df_matches.isnull().sum()"
   ]
  },
  {
   "cell_type": "code",
   "execution_count": null,
   "metadata": {
    "colab": {
     "base_uri": "https://localhost:8080/",
     "height": 277
    },
    "colab_type": "code",
    "executionInfo": {
     "elapsed": 1449,
     "status": "ok",
     "timestamp": 1564734876761,
     "user": {
      "displayName": "Jody Thai",
      "photoUrl": "https://lh3.googleusercontent.com/-LpV78qt_WbM/AAAAAAAAAAI/AAAAAAAAAJU/cSDgYdKtTQs/s64/photo.jpg",
      "userId": "15371680425307616747"
     },
     "user_tz": -420
    },
    "id": "RUipqXBNI1a9",
    "outputId": "a45e242d-5633-4385-b5f0-e64028078745"
   },
   "outputs": [],
   "source": [
    "# Get the 2 rows with Attendance is NaN\n",
    "df_matches[df_matches[\"Attendance\"].isnull()]"
   ]
  },
  {
   "cell_type": "code",
   "execution_count": null,
   "metadata": {
    "colab": {},
    "colab_type": "code",
    "id": "PLFxXui_vU0h"
   },
   "outputs": [],
   "source": [
    "# Clean NaN value\n",
    "df_matches[\"Attendance\"].fillna(value = 0, inplace = True)\n",
    "df_matches = df_matches.fillna('')\n",
    "df_players = df_players.fillna('')\n",
    "df_winners = df_winners.fillna('')"
   ]
  },
  {
   "cell_type": "code",
   "execution_count": null,
   "metadata": {
    "colab": {
     "base_uri": "https://localhost:8080/",
     "height": 484
    },
    "colab_type": "code",
    "executionInfo": {
     "elapsed": 820,
     "status": "ok",
     "timestamp": 1564734922557,
     "user": {
      "displayName": "Jody Thai",
      "photoUrl": "https://lh3.googleusercontent.com/-LpV78qt_WbM/AAAAAAAAAAI/AAAAAAAAAJU/cSDgYdKtTQs/s64/photo.jpg",
      "userId": "15371680425307616747"
     },
     "user_tz": -420
    },
    "id": "oiEbMHtqHHVD",
    "outputId": "697ca084-35e2-4a2d-f883-e258172791b1"
   },
   "outputs": [],
   "source": [
    "df_matches.sample(5)"
   ]
  },
  {
   "cell_type": "code",
   "execution_count": null,
   "metadata": {
    "colab": {
     "base_uri": "https://localhost:8080/",
     "height": 197
    },
    "colab_type": "code",
    "executionInfo": {
     "elapsed": 1183,
     "status": "ok",
     "timestamp": 1564734927346,
     "user": {
      "displayName": "Jody Thai",
      "photoUrl": "https://lh3.googleusercontent.com/-LpV78qt_WbM/AAAAAAAAAAI/AAAAAAAAAJU/cSDgYdKtTQs/s64/photo.jpg",
      "userId": "15371680425307616747"
     },
     "user_tz": -420
    },
    "id": "sGdpAZ1ETRW1",
    "outputId": "cb30bbbf-e6d9-4e1c-8c7e-c5022e1a279b"
   },
   "outputs": [],
   "source": [
    "# Process Attendance values\n",
    "df_winners = df_winners_raw.fillna('')\n",
    "df_winners[\"Attendance\"] = df_winners[\"Attendance\"].str.replace('.', '')\n",
    "df_winners.head()"
   ]
  },
  {
   "cell_type": "markdown",
   "metadata": {},
   "source": [
    "#### Clean Data Point values"
   ]
  },
  {
   "cell_type": "code",
   "execution_count": null,
   "metadata": {},
   "outputs": [],
   "source": [
    "# Rename Germany FR to Germany\n",
    "df_winners.replace(\"Germany FR\", \"Germany\", inplace=True)\n",
    "df_matches.replace(\"Germany FR\", \"Germany\", inplace=True)\n",
    "df_players.replace(\"Germany FR\", \"Germany\", inplace=True)\n",
    "# df_matches.replace(\"German DR\", \"Germany\", inplace=True)\n",
    "# df_players.replace(\"German DR\", \"Germany\", inplace=True)\n",
    "\n",
    "# Fix country names\n",
    "df_matches.replace(\"IR Iran\", \"Iran\", inplace=True)\n",
    "df_matches.replace(\"rn\\\">Bosnia and Herzegovina\", \"Bosnia and Herzegovina\", inplace=True)\n",
    "df_matches.replace(\"rn\\\">Serbia and Montenegro\", \"Serbia and Montenegro\", inplace=True)\n",
    "df_matches.replace(\"rn\\\">United Arab Emirates\", \"United Arab Emirates\", inplace=True)\n",
    "df_matches.replace(\"rn\\\">Republic of Ireland\", \"Republic of Ireland\", inplace=True)\n",
    "df_matches.replace(\"rn\\\">Trinidad and Tobago\", \"Trinidad and Tobago\", inplace=True)\n",
    "df_matches.replace(\"C�te d'Ivoire\", \"Ivory Coast\", inplace=True)\n",
    "df_matches.replace(\"Korea DPR\", \"North Korea\", inplace=True)\n",
    "df_players.replace(\"Korea DPR\", \"North Korea\", inplace=True)\n",
    "\n",
    "# Fix Stadium names\n",
    "df_matches.replace(\"Maracan� - Est�dio Jornalista M�rio Filho\", \"Maracan�\", inplace=True)"
   ]
  },
  {
   "cell_type": "markdown",
   "metadata": {
    "colab_type": "text",
    "id": "FfNkGUutYoU9"
   },
   "source": [
    "#### Separate Datetime column"
   ]
  },
  {
   "cell_type": "code",
   "execution_count": null,
   "metadata": {
    "colab": {
     "base_uri": "https://localhost:8080/",
     "height": 244
    },
    "colab_type": "code",
    "executionInfo": {
     "elapsed": 1592,
     "status": "ok",
     "timestamp": 1564734927778,
     "user": {
      "displayName": "Jody Thai",
      "photoUrl": "https://lh3.googleusercontent.com/-LpV78qt_WbM/AAAAAAAAAAI/AAAAAAAAAJU/cSDgYdKtTQs/s64/photo.jpg",
      "userId": "15371680425307616747"
     },
     "user_tz": -420
    },
    "id": "AR9j3eYNuM6b",
    "outputId": "ca9225b1-ff3b-4683-b164-2389cdf0d06f"
   },
   "outputs": [],
   "source": [
    "# Separate DateTime column\n",
    "df_matches.insert(loc = 2, column=\"Time\", value=\"\")\n",
    "df_matches.head(2)"
   ]
  },
  {
   "cell_type": "code",
   "execution_count": null,
   "metadata": {
    "colab": {
     "base_uri": "https://localhost:8080/",
     "height": 244
    },
    "colab_type": "code",
    "executionInfo": {
     "elapsed": 1582,
     "status": "ok",
     "timestamp": 1564734927779,
     "user": {
      "displayName": "Jody Thai",
      "photoUrl": "https://lh3.googleusercontent.com/-LpV78qt_WbM/AAAAAAAAAAI/AAAAAAAAAJU/cSDgYdKtTQs/s64/photo.jpg",
      "userId": "15371680425307616747"
     },
     "user_tz": -420
    },
    "id": "947KckA0o2he",
    "outputId": "fa683dbf-6f46-4e88-b835-93570b3794a0"
   },
   "outputs": [],
   "source": [
    "df_matches.loc[:, 'Time'] = df_matches[\"Datetime\"].apply(lambda x: x.split('-')[1].strip())\n",
    "df_matches.loc[:, 'Datetime'] = df_matches[\"Datetime\"].apply(lambda x: x.split('-')[0].strip())\n",
    "df_matches.head(2)"
   ]
  },
  {
   "cell_type": "code",
   "execution_count": null,
   "metadata": {
    "colab": {
     "base_uri": "https://localhost:8080/",
     "height": 467
    },
    "colab_type": "code",
    "executionInfo": {
     "elapsed": 1572,
     "status": "ok",
     "timestamp": 1564734927779,
     "user": {
      "displayName": "Jody Thai",
      "photoUrl": "https://lh3.googleusercontent.com/-LpV78qt_WbM/AAAAAAAAAAI/AAAAAAAAAJU/cSDgYdKtTQs/s64/photo.jpg",
      "userId": "15371680425307616747"
     },
     "user_tz": -420
    },
    "id": "NnOxmJ3HyUzd",
    "outputId": "28a37c0e-4928-496c-c9e8-61df437beeb3"
   },
   "outputs": [],
   "source": [
    "# Rename Datetime column\n",
    "df_matches.rename(columns={'Datetime': 'Date'}, inplace=True)\n",
    "df_matches.sample(5)"
   ]
  },
  {
   "cell_type": "markdown",
   "metadata": {
    "colab_type": "text",
    "id": "Ut-UZfIIR-Uf"
   },
   "source": [
    "#### Check data duplication"
   ]
  },
  {
   "cell_type": "code",
   "execution_count": null,
   "metadata": {
    "colab": {
     "base_uri": "https://localhost:8080/",
     "height": 34
    },
    "colab_type": "code",
    "executionInfo": {
     "elapsed": 1547,
     "status": "ok",
     "timestamp": 1564734927781,
     "user": {
      "displayName": "Jody Thai",
      "photoUrl": "https://lh3.googleusercontent.com/-LpV78qt_WbM/AAAAAAAAAAI/AAAAAAAAAJU/cSDgYdKtTQs/s64/photo.jpg",
      "userId": "15371680425307616747"
     },
     "user_tz": -420
    },
    "id": "9FzlkzKJGq-R",
    "outputId": "646fb313-b6cf-4a18-bacb-c162d564e558"
   },
   "outputs": [],
   "source": [
    "# Check duplication\n",
    "df_matches[\"MatchID\"].nunique() == df_matches[\"MatchID\"].count()"
   ]
  },
  {
   "cell_type": "code",
   "execution_count": null,
   "metadata": {
    "colab": {
     "base_uri": "https://localhost:8080/",
     "height": 117
    },
    "colab_type": "code",
    "executionInfo": {
     "elapsed": 733,
     "status": "ok",
     "timestamp": 1564735372132,
     "user": {
      "displayName": "Jody Thai",
      "photoUrl": "https://lh3.googleusercontent.com/-LpV78qt_WbM/AAAAAAAAAAI/AAAAAAAAAJU/cSDgYdKtTQs/s64/photo.jpg",
      "userId": "15371680425307616747"
     },
     "user_tz": -420
    },
    "id": "SRTBmuv3PFJY",
    "outputId": "176f6817-ccd9-4237-df34-67b7c016fe5d"
   },
   "outputs": [],
   "source": [
    "# Find duplicated rows from the dataset\n",
    "def get_duplicated_data(df, key):\n",
    "  \"\"\"\n",
    "    Return a DataFrame of duplicated data points of a given dataset\n",
    "  \"\"\"\n",
    "  \n",
    "  df_key = df[key]\n",
    "  return df[df_key.isin(df_key[df_key.duplicated()])].sort_values(key)\n",
    "  \n",
    "get_duplicated_data(df_matches, \"MatchID\")"
   ]
  },
  {
   "cell_type": "code",
   "execution_count": null,
   "metadata": {
    "colab": {},
    "colab_type": "code",
    "id": "KpsXTm_wOGNR"
   },
   "outputs": [],
   "source": [
    "df_matches.drop_duplicates(keep = 'first', inplace = True)"
   ]
  },
  {
   "cell_type": "code",
   "execution_count": null,
   "metadata": {
    "colab": {},
    "colab_type": "code",
    "id": "8olitGN8PhpY"
   },
   "outputs": [],
   "source": [
    "df_players.drop_duplicates(keep = 'first', inplace = True)"
   ]
  },
  {
   "cell_type": "markdown",
   "metadata": {},
   "source": [
    "#### Feature Engineering"
   ]
  },
  {
   "cell_type": "code",
   "execution_count": null,
   "metadata": {},
   "outputs": [],
   "source": [
    "country_dict = {'FRA':'France', 'MEX': 'Mexico', 'USA':'USA', 'BEL':'Belgium', 'YUG':'Yugoslavia', 'BRA':'Brazil', 'ROU':'Romania', \n",
    "                'PER':'Peru', 'ARG':'Argentina', 'CHI':'Chile', 'BOL':'Bolivia', 'PAR':'Paraguay', 'URU':'Burundi', 'AUT':'Austria', 'HUN':'Hungary', \n",
    "                'EGY':'Egypt', 'SUI':'Switzerland', 'NED':'Netherlands', 'SWE':'Sweden', 'GER':'Germany', 'ESP':'Spain', 'ITA':'Italy', 'TCH':'Czechoslovakia', 'INH':'Dutch East Indies', \n",
    "                'CUB':'Cuba', 'NOR':'Norway', 'POL':'Poland', 'FRG':'Germany', 'GDR' : 'German DR',\n",
    "                'ENG':'England', 'SCO':'Scotland', 'TUR':'Turkey', 'KOR':'Korea Republic', 'URS':'Soviet Union', 'WAL':'Wales', 'NIR':'Northern Ireland', 'COL':'Colombia', \n",
    "                'BUL':'Bulgaria', 'PRK':'North Korea', 'POR':'Portugal', 'ISR':'Israel', 'MAR':'Morocco', 'SLV':'El Salvador', 'AUS':'Australia', 'ZAI':'Zaire', \n",
    "                'HAI':'Haiti', 'TUN':'Tunisia', 'IRN':'IR Iran', 'CMR':'Cameroon', 'NZL':'New Zealand', 'ALG':'Algeria', 'HON':'Honduras', 'KUW':'Kuwait', 'CAN':'Canada', \n",
    "                'IRQ':'Iraq', 'DEN':'Denmark', 'UAE':'United Arab Emirates', 'CRC':'Costa Rica', 'IRL':'Republic of Ireland', 'KSA':'Saudi Arabia', 'RUS':'Russia', 'GRE':'Greece', 'NGA':'Nigeria', \n",
    "                'RSA':'South Africa', 'JPN':'Japan', 'JAM':'Jamaica', 'CRO':'Croatia', 'SEN':'Senegal', 'SVN':'Slovenia', 'ECU':'Ecuador', 'CHN':'China PR', 'TRI':'Trinidad and Tobago',\n",
    "                'CIV':'Ivory Coast', 'SCG':'Serbia and Montenegro', 'ANG':'Angola', 'CZE':'Czech Republic', 'GHA':'Ghana', 'TOG':'Togo', 'UKR':'Ukraine', 'SRB':'Serbia', 'SVK':'Slovakia', 'BIH':'Bosnia and Herzegovina'}\n",
    "\n",
    "# Input a player name and return the country name\n",
    "def get_country_name_from_player(df, player_name):\n",
    "  initials = df[df[\"Player Name\"] == player_name]['Team Initials'].unique()[0]\n",
    "  \n",
    "  return country_dict[initials]\n",
    "\n",
    "def get_country_name_by_initials(initials):\n",
    "  return country_dict[initials]"
   ]
  },
  {
   "cell_type": "code",
   "execution_count": null,
   "metadata": {
    "colab": {},
    "colab_type": "code",
    "id": "vqwL7j2fcsin"
   },
   "outputs": [],
   "source": [
    "df_players[\"Team Name\"] = df_players[\"Team Initials\"].apply(lambda x: get_country_name_by_initials(x))"
   ]
  },
  {
   "cell_type": "markdown",
   "metadata": {
    "colab_type": "text",
    "id": "cQQxsIyUSJrF"
   },
   "source": [
    "#### Convert Data Types"
   ]
  },
  {
   "cell_type": "code",
   "execution_count": null,
   "metadata": {},
   "outputs": [],
   "source": [
    "# Convert data type of Players dataset\n",
    "df_players[\"Team Initials\"] = df_players[\"Team Initials\"].astype(\"category\")\n",
    "df_players[\"Coach Name\"] = df_players[\"Coach Name\"].astype(\"category\")\n",
    "df_players[\"Line-up\"] = df_players[\"Line-up\"].astype(\"category\")\n",
    "df_players[\"Player Name\"] = df_players[\"Player Name\"].astype(\"category\")\n",
    "df_players[\"Position\"] = df_players[\"Position\"].astype(\"category\")\n",
    "df_players[\"Event Type\"] = df_players[\"Event Type\"].astype(\"category\")\n",
    "df_players[\"Event At\"] = df_players[\"Event At\"].astype(\"category\")\n",
    "df_players[\"Team Name\"] = df_players[\"Team Name\"].astype(\"category\")\n",
    "df_players.info()"
   ]
  },
  {
   "cell_type": "code",
   "execution_count": null,
   "metadata": {},
   "outputs": [],
   "source": [
    "# Convert data type of Winners dataset\n",
    "df_winners[\"Country\"] = df_winners[\"Country\"].astype(\"category\")\n",
    "df_winners[\"Winner\"] = df_winners[\"Winner\"].astype(\"category\")\n",
    "df_winners[\"Runners-Up\"] = df_winners[\"Runners-Up\"].astype(\"category\")\n",
    "df_winners[\"Third\"] = df_winners[\"Third\"].astype(\"category\")\n",
    "df_winners[\"Fourth\"] = df_winners[\"Fourth\"].astype(\"category\")\n",
    "df_winners[\"Attendance\"] = df_winners[\"Attendance\"].astype(\"int\")\n",
    "df_winners.info()"
   ]
  },
  {
   "cell_type": "code",
   "execution_count": null,
   "metadata": {},
   "outputs": [],
   "source": [
    "# Convert data type of Matches dataset\n",
    "df_matches[\"Year\"] = df_matches[\"Year\"].astype(\"category\")\n",
    "df_matches[\"Date\"] = df_matches[\"Date\"].astype(\"category\")\n",
    "df_matches[\"Time\"] = df_matches[\"Time\"].astype(\"category\")\n",
    "# df_matches[\"Datetime\"] = df_matches[\"Datetime\"].astype(\"category\")\n",
    "df_matches[\"Stage\"] = df_matches[\"Stage\"].astype(\"category\")\n",
    "df_matches[\"Stadium\"] = df_matches[\"Stadium\"].astype(\"category\")\n",
    "df_matches[\"City\"] = df_matches[\"City\"].astype(\"category\")\n",
    "df_matches[\"Home Team Name\"] = df_matches[\"Home Team Name\"].astype(\"category\")\n",
    "df_matches[\"Home Team Goals\"] = df_matches[\"Home Team Goals\"].astype(\"int\")\n",
    "df_matches[\"Away Team Goals\"] = df_matches[\"Away Team Goals\"].astype(\"int\")\n",
    "df_matches[\"Away Team Name\"] = df_matches[\"Away Team Name\"].astype(\"category\")\n",
    "df_matches[\"Win conditions\"] = df_matches[\"Win conditions\"].astype(\"category\")\n",
    "df_matches[\"Attendance\"] = df_matches[\"Attendance\"].astype(\"int\")\n",
    "df_matches[\"Half-time Home Goals\"] = df_matches[\"Half-time Home Goals\"].astype(\"int\")\n",
    "df_matches[\"Half-time Away Goals\"] = df_matches[\"Half-time Away Goals\"].astype(\"int\")\n",
    "df_matches[\"Referee\"] = df_matches[\"Referee\"].astype(\"category\")\n",
    "df_matches[\"Assistant 1\"] = df_matches[\"Assistant 1\"].astype(\"category\")\n",
    "df_matches[\"Assistant 2\"] = df_matches[\"Assistant 2\"].astype(\"category\")\n",
    "df_matches[\"RoundID\"] = df_matches[\"RoundID\"].astype(\"int\")\n",
    "df_matches[\"MatchID\"] = df_matches[\"MatchID\"].astype(\"int\")\n",
    "df_matches[\"Home Team Initials\"] = df_matches[\"Home Team Initials\"].astype(\"category\")\n",
    "df_matches[\"Away Team Initials\"] = df_matches[\"Away Team Initials\"].astype(\"category\")\n",
    "df_matches.info()"
   ]
  },
  {
   "cell_type": "code",
   "execution_count": null,
   "metadata": {},
   "outputs": [],
   "source": [
    "# df_matches_players = df_matches.copy()\n",
    "# df_matches_players.merge(df_players, left_on=\"MatchID\", right_on=\"MatchID\")\n",
    "# Merge Players and Matches datasets\n",
    "df_matches_players = pd.merge(df_matches, df_players, how='outer', on=\"MatchID\")\n",
    "\n",
    "df_matches_players[df_matches_players['Player Name'] == 'Alex THEPOT']"
   ]
  },
  {
   "cell_type": "code",
   "execution_count": null,
   "metadata": {},
   "outputs": [],
   "source": [
    "# Convert data type\n",
    "df_matches_players[\"Year\"] = df_matches_players[\"Year\"].astype(\"category\")\n",
    "df_matches_players[\"Date\"] = df_matches_players[\"Date\"].astype(\"category\")\n",
    "df_matches_players[\"Time\"] = df_matches_players[\"Time\"].astype(\"category\")\n",
    "df_matches_players[\"Stage\"] = df_matches_players[\"Stage\"].astype(\"category\")\n",
    "df_matches_players[\"Stadium\"] = df_matches_players[\"Stadium\"].astype(\"category\")\n",
    "df_matches_players[\"City\"] = df_matches_players[\"City\"].astype(\"category\")\n",
    "df_matches_players[\"Home Team Name\"] = df_matches_players[\"Home Team Name\"].astype(\"category\")\n",
    "df_matches_players[\"Home Team Goals\"] = df_matches_players[\"Home Team Goals\"].astype(\"int\")\n",
    "df_matches_players[\"Away Team Goals\"] = df_matches_players[\"Away Team Goals\"].astype(\"int\")\n",
    "df_matches_players[\"Away Team Name\"] = df_matches_players[\"Away Team Name\"].astype(\"category\")\n",
    "df_matches_players[\"Win conditions\"] = df_matches_players[\"Win conditions\"].astype(\"category\")\n",
    "df_matches_players[\"Attendance\"] = df_matches_players[\"Attendance\"].astype(\"int\")\n",
    "df_matches_players[\"Half-time Home Goals\"] = df_matches_players[\"Half-time Home Goals\"].astype(\"int\")\n",
    "df_matches_players[\"Half-time Away Goals\"] = df_matches_players[\"Half-time Away Goals\"].astype(\"int\")\n",
    "df_matches_players[\"Referee\"] = df_matches_players[\"Referee\"].astype(\"category\")\n",
    "df_matches_players[\"Assistant 1\"] = df_matches_players[\"Assistant 1\"].astype(\"category\")\n",
    "df_matches_players[\"Assistant 2\"] = df_matches_players[\"Assistant 2\"].astype(\"category\")\n",
    "df_matches_players[\"RoundID_x\"] = df_matches_players[\"RoundID_x\"].astype(\"int\")\n",
    "df_matches_players[\"RoundID_y\"] = df_matches_players[\"RoundID_y\"].astype(\"int\")\n",
    "df_matches_players[\"MatchID\"] = df_matches_players[\"MatchID\"].astype(\"int\")\n",
    "df_matches_players[\"Home Team Initials\"] = df_matches_players[\"Home Team Initials\"].astype(\"category\")\n",
    "df_matches_players[\"Away Team Initials\"] = df_matches_players[\"Away Team Initials\"].astype(\"category\")\n",
    "df_matches_players[\"Event Type\"] = df_matches_players[\"Event Type\"].astype(\"category\")\n",
    "df_matches_players[\"Event At\"] = df_matches_players[\"Event At\"].astype(\"category\")\n",
    "df_matches_players[\"Team Name\"] = df_matches_players[\"Team Name\"].astype(\"category\")\n",
    "df_matches_players[\"Team Initials\"] = df_matches_players[\"Team Initials\"].astype(\"category\")\n",
    "df_matches_players[\"Coach Name\"] = df_matches_players[\"Coach Name\"].astype(\"category\")\n",
    "df_matches_players[\"Line-up\"] = df_matches_players[\"Line-up\"].astype(\"category\")\n",
    "df_matches_players[\"Player Name\"] = df_matches_players[\"Player Name\"].astype(\"category\")\n",
    "df_matches_players[\"Position\"] = df_matches_players[\"Position\"].astype(\"category\")\n",
    "\n",
    "df_matches_players.info()"
   ]
  },
  {
   "cell_type": "markdown",
   "metadata": {},
   "source": [
    "#### Write the cleaned datasets to files"
   ]
  },
  {
   "cell_type": "code",
   "execution_count": null,
   "metadata": {},
   "outputs": [],
   "source": [
    "df_winners.to_csv('/Users/jodythai/Google Drive/PROJECTS/CoderSchool_Fansipan/github_repo/world-cup-da/data/winners_cleaned.csv', index = False)\n",
    "df_matches.to_csv('/Users/jodythai/Google Drive/PROJECTS/CoderSchool_Fansipan/github_repo/world-cup-da/data/matches_cleaned.csv', index = False)\n",
    "df_players.to_csv('/Users/jodythai/Google Drive/PROJECTS/CoderSchool_Fansipan/github_repo/world-cup-da/data/players_cleaned.csv', index = False)\n",
    "df_matches_players.to_csv('/Users/jodythai/Google Drive/PROJECTS/CoderSchool_Fansipan/github_repo/world-cup-da/data/matches_players_cleaned.csv', index = False)"
   ]
  },
  {
   "cell_type": "markdown",
   "metadata": {
    "colab_type": "text",
    "id": "_KG-TnLswKP7"
   },
   "source": [
    "# EDA"
   ]
  },
  {
   "cell_type": "markdown",
   "metadata": {
    "colab_type": "text",
    "id": "55OT0KuTcbpQ"
   },
   "source": [
    "# TODO"
   ]
  },
  {
   "cell_type": "markdown",
   "metadata": {
    "colab_type": "text",
    "id": "5PBZYy0ucqSq"
   },
   "source": [
    "### Get data by Events Type"
   ]
  },
  {
   "cell_type": "markdown",
   "metadata": {
    "colab_type": "text",
    "id": "UjTbJ783dHSy"
   },
   "source": [
    "### Make Corr() Diagrams"
   ]
  },
  {
   "cell_type": "code",
   "execution_count": null,
   "metadata": {},
   "outputs": [],
   "source": [
    "df_matches_players[df_matches_players[\"Team Initials\"] == \"GDR\"]"
   ]
  },
  {
   "cell_type": "code",
   "execution_count": null,
   "metadata": {},
   "outputs": [],
   "source": [
    "df_matches[df_matches['Stadium'].str.contains(\"Estadio\")]"
   ]
  },
  {
   "cell_type": "code",
   "execution_count": null,
   "metadata": {},
   "outputs": [],
   "source": [
    "df_matches_players['Event Type'].value_counts()"
   ]
  },
  {
   "cell_type": "code",
   "execution_count": null,
   "metadata": {},
   "outputs": [],
   "source": [
    "df_matches_players[df_matches_players['Event Type'] == 'Y']"
   ]
  },
  {
   "cell_type": "code",
   "execution_count": null,
   "metadata": {},
   "outputs": [],
   "source": [
    "df_players[df_players[\"Event Type\"] == \"P\"][\"Event Type\"].count()"
   ]
  },
  {
   "cell_type": "code",
   "execution_count": null,
   "metadata": {
    "scrolled": true
   },
   "outputs": [],
   "source": [
    "df2 = df_matches_players[df_matches_players['Stadium'].str.contains(\"Maracan\")]\n",
    "# df2[df2['Event Type'] == 'Y']['Event Type'].value_counts()\n",
    "df2"
   ]
  },
  {
   "cell_type": "code",
   "execution_count": null,
   "metadata": {},
   "outputs": [],
   "source": [
    "df_matches_players[df_matches_players['Stadium'].str.contains('Estadio Centenari')]['Event Type'].value_counts()"
   ]
  },
  {
   "cell_type": "code",
   "execution_count": null,
   "metadata": {},
   "outputs": [],
   "source": [
    "df_matches_players[df_matches_players['Stadium'].str.contains('Estadio Azteca')]['MatchID'].value_counts()"
   ]
  },
  {
   "cell_type": "code",
   "execution_count": null,
   "metadata": {},
   "outputs": [],
   "source": [
    "df_matches_players.info()"
   ]
  },
  {
   "cell_type": "code",
   "execution_count": null,
   "metadata": {},
   "outputs": [],
   "source": []
  }
 ],
 "metadata": {
  "colab": {
   "collapsed_sections": [],
   "name": "Team 6 - World Cup_Duong.ipynb",
   "provenance": [
    {
     "file_id": "1XExMZLBFCa4L0IUgqAI8VewaO5lOcnfu",
     "timestamp": 1564732602139
    }
   ],
   "toc_visible": true,
   "version": "0.3.2"
  },
  "kernelspec": {
   "display_name": "Python 3",
   "language": "python",
   "name": "python3"
  },
  "language_info": {
   "codemirror_mode": {
    "name": "ipython",
    "version": 3
   },
   "file_extension": ".py",
   "mimetype": "text/x-python",
   "name": "python",
   "nbconvert_exporter": "python",
   "pygments_lexer": "ipython3",
   "version": "3.7.3"
  }
 },
 "nbformat": 4,
 "nbformat_minor": 1
}
