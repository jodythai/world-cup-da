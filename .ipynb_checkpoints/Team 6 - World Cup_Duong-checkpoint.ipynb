{
 "cells": [
  {
   "cell_type": "markdown",
   "metadata": {
    "colab_type": "text",
    "id": "8WRzBob8u0tk"
   },
   "source": [
    "# Team 6 - World Cup\n",
    "\n",
    "![](https://img.fifa.com/image/upload/t_l4/v1543921822/ex1ksdevyxwsgu7rzdv6.jpg)\n",
    "\n",
    "_For more information about the dataset, read [here](https://www.kaggle.com/abecklas/fifa-world-cup)._\n",
    "\n",
    "## Your tasks\n",
    "- Name your team!\n",
    "- Read the source and do some quick research to understand more about the dataset and its topic\n",
    "- Clean the data\n",
    "- Perform Exploratory Data Analysis on the dataset\n",
    "- Analyze the data more deeply and extract insights\n",
    "- Visualize your analysis on Google Data Studio\n",
    "- Present your works in front of the class and guests next Monday\n",
    "\n",
    "## Submission Guide\n",
    "- Create a Github repository for your project\n",
    "- Upload the dataset (.csv file) and the Jupyter Notebook to your Github repository. In the Jupyter Notebook, **include the link to your Google Data Studio report**.\n",
    "- Submit your works through this [Google Form](https://forms.gle/oxtXpGfS8JapVj3V8).\n",
    "\n",
    "## Tips for Data Cleaning, Manipulation & Visualization\n",
    "- Here are some of our tips for Data Cleaning, Manipulation & Visualization. [Click here](https://hackmd.io/cBNV7E6TT2WMliQC-GTw1A)\n",
    "\n",
    "_____________________________\n",
    "\n",
    "## Some Hints for This Dataset:\n",
    "- Is there a way to integrate the data from all 3 datasets?\n",
    "- It seems like the `winners` dataset doesn't have data of World Cup 2018. Can you Google the relevant information and add it to the dataset using `pandas`?\n",
    "- The format of some number columns in `matches` dataset doesn't look right.\n",
    "- Can you seperate the Date and the Time of `Datetime` column in `matches` dataset?\n",
    "- And more..."
   ]
  },
  {
   "cell_type": "markdown",
   "metadata": {
    "colab_type": "text",
    "id": "rOfJG--Qv50C"
   },
   "source": [
    "### Import libraries"
   ]
  },
  {
   "cell_type": "code",
   "execution_count": null,
   "metadata": {
    "colab": {},
    "colab_type": "code",
    "id": "TAQXShkuu0tl"
   },
   "outputs": [],
   "source": [
    "import numpy as np\n",
    "import pandas as pd\n",
    "import seaborn as sns\n",
    "import matplotlib.pyplot as plt\n",
    "%matplotlib inline\n",
    "import warnings\n",
    "warnings.filterwarnings('ignore')\n",
    "\n",
    "sns.set_style(\"whitegrid\")"
   ]
  },
  {
   "cell_type": "code",
   "execution_count": null,
   "metadata": {
    "colab": {
     "base_uri": "https://localhost:8080/",
     "height": 34
    },
    "colab_type": "code",
    "executionInfo": {
     "elapsed": 1203,
     "status": "ok",
     "timestamp": 1564734876442,
     "user": {
      "displayName": "Jody Thai",
      "photoUrl": "https://lh3.googleusercontent.com/-LpV78qt_WbM/AAAAAAAAAAI/AAAAAAAAAJU/cSDgYdKtTQs/s64/photo.jpg",
      "userId": "15371680425307616747"
     },
     "user_tz": -420
    },
    "id": "6rKyS6t3u5qE",
    "outputId": "3a6fc9d4-9beb-43f3-cf83-196b0a253c9e"
   },
   "outputs": [],
   "source": [
    "from google.colab import drive\n",
    "drive.mount('/content/gdrive')"
   ]
  },
  {
   "cell_type": "markdown",
   "metadata": {
    "colab_type": "text",
    "id": "v4jjTEySwA4q"
   },
   "source": [
    "### Create Data Frames"
   ]
  },
  {
   "cell_type": "code",
   "execution_count": null,
   "metadata": {
    "colab": {},
    "colab_type": "code",
    "id": "dYVODMz9u84l"
   },
   "outputs": [],
   "source": [
    "# df_matches_raw = pd.read_csv('/content/gdrive/My Drive/PROJECTS/CoderSchool_Fansipan/github_repo/world-cup-da/data/matches.csv', encoding='utf-8')\n",
    "# df_players_raw = pd.read_csv('/content/gdrive/My Drive/PROJECTS/CoderSchool_Fansipan/github_repo/world-cup-da/data/players.csv', encoding='utf-8')\n",
    "# df_winners_raw = pd.read_csv('/content/gdrive/My Drive/PROJECTS/CoderSchool_Fansipan/github_repo/world-cup-da/data/winners.csv', encoding='utf-8')\n",
    "\n",
    "df_matches_raw = pd.read_csv('/Users/jodythai/Google Drive/PROJECTS/CoderSchool_Fansipan/github_repo/world-cup-da/data/matches.csv', encoding='utf-8')\n",
    "df_players_raw = pd.read_csv('/Users/jodythai/Google Drive/PROJECTS/CoderSchool_Fansipan/github_repo/world-cup-da/data/players.csv', encoding='utf-8')\n",
    "df_winners_raw = pd.read_csv('/Users/jodythai/Google Drive/PROJECTS/CoderSchool_Fansipan/github_repo/world-cup-da/data/winners.csv', encoding='utf-8')"
   ]
  },
  {
   "cell_type": "markdown",
   "metadata": {
    "colab_type": "text",
    "id": "tTXxqXc1wUp2"
   },
   "source": [
    "# Clean Data"
   ]
  },
  {
   "cell_type": "code",
   "execution_count": null,
   "metadata": {
    "colab": {
     "base_uri": "https://localhost:8080/",
     "height": 267
    },
    "colab_type": "code",
    "executionInfo": {
     "elapsed": 1492,
     "status": "ok",
     "timestamp": 1564734876757,
     "user": {
      "displayName": "Jody Thai",
      "photoUrl": "https://lh3.googleusercontent.com/-LpV78qt_WbM/AAAAAAAAAAI/AAAAAAAAAJU/cSDgYdKtTQs/s64/photo.jpg",
      "userId": "15371680425307616747"
     },
     "user_tz": -420
    },
    "id": "o_Vd_CrmvGcr",
    "outputId": "b4fe4ff2-d892-466b-c066-7b65a448f9ce"
   },
   "outputs": [],
   "source": [
    "df_matches_raw.tail()"
   ]
  },
  {
   "cell_type": "code",
   "execution_count": null,
   "metadata": {
    "colab": {
     "base_uri": "https://localhost:8080/",
     "height": 107
    },
    "colab_type": "code",
    "executionInfo": {
     "elapsed": 1482,
     "status": "ok",
     "timestamp": 1564734876758,
     "user": {
      "displayName": "Jody Thai",
      "photoUrl": "https://lh3.googleusercontent.com/-LpV78qt_WbM/AAAAAAAAAAI/AAAAAAAAAJU/cSDgYdKtTQs/s64/photo.jpg",
      "userId": "15371680425307616747"
     },
     "user_tz": -420
    },
    "id": "sDgSKb0IvQ2x",
    "outputId": "8ab661d2-02d1-4757-e30a-6f00819b51d6"
   },
   "outputs": [],
   "source": [
    "df_players_raw.head(2)"
   ]
  },
  {
   "cell_type": "code",
   "execution_count": null,
   "metadata": {
    "colab": {
     "base_uri": "https://localhost:8080/",
     "height": 197
    },
    "colab_type": "code",
    "executionInfo": {
     "elapsed": 1476,
     "status": "ok",
     "timestamp": 1564734876759,
     "user": {
      "displayName": "Jody Thai",
      "photoUrl": "https://lh3.googleusercontent.com/-LpV78qt_WbM/AAAAAAAAAAI/AAAAAAAAAJU/cSDgYdKtTQs/s64/photo.jpg",
      "userId": "15371680425307616747"
     },
     "user_tz": -420
    },
    "id": "tL1N8y6vvSwh",
    "outputId": "1524cc24-7cda-405c-fa40-03ac2b4cd49b"
   },
   "outputs": [],
   "source": [
    "df_winners_raw.head(5)"
   ]
  },
  {
   "cell_type": "markdown",
   "metadata": {
    "colab_type": "text",
    "id": "ZBGXIvn_YkKZ"
   },
   "source": [
    "#### Remove NaN"
   ]
  },
  {
   "cell_type": "code",
   "execution_count": null,
   "metadata": {
    "colab": {
     "base_uri": "https://localhost:8080/",
     "height": 390
    },
    "colab_type": "code",
    "executionInfo": {
     "elapsed": 1463,
     "status": "ok",
     "timestamp": 1564734876760,
     "user": {
      "displayName": "Jody Thai",
      "photoUrl": "https://lh3.googleusercontent.com/-LpV78qt_WbM/AAAAAAAAAAI/AAAAAAAAAJU/cSDgYdKtTQs/s64/photo.jpg",
      "userId": "15371680425307616747"
     },
     "user_tz": -420
    },
    "id": "v09l_ASAnL5g",
    "outputId": "3f965323-4b02-4f50-8655-a3f237401700"
   },
   "outputs": [],
   "source": [
    "# Remove null rows of Matches dataset\n",
    "# Get data when RoundID is null\n",
    "df_matches = df_matches_raw[(df_matches_raw[\"RoundID\"].isnull() == False) & (df_matches_raw[\"MatchID\"].isnull() == False)]\n",
    "\n",
    "# Find NaN values from the data points\n",
    "df_matches.isnull().sum()"
   ]
  },
  {
   "cell_type": "code",
   "execution_count": null,
   "metadata": {
    "colab": {
     "base_uri": "https://localhost:8080/",
     "height": 277
    },
    "colab_type": "code",
    "executionInfo": {
     "elapsed": 1449,
     "status": "ok",
     "timestamp": 1564734876761,
     "user": {
      "displayName": "Jody Thai",
      "photoUrl": "https://lh3.googleusercontent.com/-LpV78qt_WbM/AAAAAAAAAAI/AAAAAAAAAJU/cSDgYdKtTQs/s64/photo.jpg",
      "userId": "15371680425307616747"
     },
     "user_tz": -420
    },
    "id": "RUipqXBNI1a9",
    "outputId": "a45e242d-5633-4385-b5f0-e64028078745"
   },
   "outputs": [],
   "source": [
    "# Get the 2 rows with Attendance is NaN\n",
    "df_matches[df_matches[\"Attendance\"].isnull()]"
   ]
  },
  {
   "cell_type": "code",
   "execution_count": null,
   "metadata": {
    "colab": {},
    "colab_type": "code",
    "id": "PLFxXui_vU0h"
   },
   "outputs": [],
   "source": [
    "# Clean NaN value\n",
    "df_matches[\"Attendance\"].fillna(value = 0, inplace = True)\n",
    "df_matches = df_matches.fillna('')\n",
    "df_players = df_players_raw.fillna('')\n",
    "df_winners = df_winners_raw.fillna('')"
   ]
  },
  {
   "cell_type": "code",
   "execution_count": null,
   "metadata": {
    "colab": {
     "base_uri": "https://localhost:8080/",
     "height": 484
    },
    "colab_type": "code",
    "executionInfo": {
     "elapsed": 820,
     "status": "ok",
     "timestamp": 1564734922557,
     "user": {
      "displayName": "Jody Thai",
      "photoUrl": "https://lh3.googleusercontent.com/-LpV78qt_WbM/AAAAAAAAAAI/AAAAAAAAAJU/cSDgYdKtTQs/s64/photo.jpg",
      "userId": "15371680425307616747"
     },
     "user_tz": -420
    },
    "id": "oiEbMHtqHHVD",
    "outputId": "697ca084-35e2-4a2d-f883-e258172791b1"
   },
   "outputs": [],
   "source": [
    "df_matches.sample(5)"
   ]
  },
  {
   "cell_type": "markdown",
   "metadata": {
    "colab_type": "text",
    "id": "cQQxsIyUSJrF"
   },
   "source": [
    "#### Convert Data Types"
   ]
  },
  {
   "cell_type": "code",
   "execution_count": null,
   "metadata": {
    "colab": {
     "base_uri": "https://localhost:8080/",
     "height": 461
    },
    "colab_type": "code",
    "executionInfo": {
     "elapsed": 941,
     "status": "ok",
     "timestamp": 1564734927042,
     "user": {
      "displayName": "Jody Thai",
      "photoUrl": "https://lh3.googleusercontent.com/-LpV78qt_WbM/AAAAAAAAAAI/AAAAAAAAAJU/cSDgYdKtTQs/s64/photo.jpg",
      "userId": "15371680425307616747"
     },
     "user_tz": -420
    },
    "id": "EtTQu2z8Gu1Z",
    "outputId": "8c4c5dee-0330-43ee-8323-f6786e6391ee"
   },
   "outputs": [],
   "source": [
    "df_matches.info()"
   ]
  },
  {
   "cell_type": "code",
   "execution_count": null,
   "metadata": {
    "colab": {
     "base_uri": "https://localhost:8080/",
     "height": 461
    },
    "colab_type": "code",
    "executionInfo": {
     "elapsed": 1227,
     "status": "ok",
     "timestamp": 1564734927343,
     "user": {
      "displayName": "Jody Thai",
      "photoUrl": "https://lh3.googleusercontent.com/-LpV78qt_WbM/AAAAAAAAAAI/AAAAAAAAAJU/cSDgYdKtTQs/s64/photo.jpg",
      "userId": "15371680425307616747"
     },
     "user_tz": -420
    },
    "id": "AsYSDtZaG0dD",
    "outputId": "c5f0ff0a-3c80-4eeb-cddc-ea6441f66750"
   },
   "outputs": [],
   "source": [
    "# Convert data type of Matches dataset\n",
    "df_matches[\"Year\"] = df_matches[\"Year\"].astype(\"category\")\n",
    "df_matches[\"Datetime\"] = df_matches[\"Datetime\"].astype(\"category\")\n",
    "df_matches[\"Stage\"] = df_matches[\"Stage\"].astype(\"category\")\n",
    "df_matches[\"Stadium\"] = df_matches[\"Stadium\"].astype(\"category\")\n",
    "df_matches[\"City\"] = df_matches[\"City\"].astype(\"category\")\n",
    "df_matches[\"Home Team Name\"] = df_matches[\"Home Team Name\"].astype(\"category\")\n",
    "df_matches[\"Home Team Goals\"] = df_matches[\"Home Team Goals\"].astype(\"int\")\n",
    "df_matches[\"Away Team Goals\"] = df_matches[\"Away Team Goals\"].astype(\"int\")\n",
    "df_matches[\"Away Team Name\"] = df_matches[\"Away Team Name\"].astype(\"category\")\n",
    "df_matches[\"Win conditions\"] = df_matches[\"Win conditions\"].astype(\"category\")\n",
    "df_matches[\"Attendance\"] = df_matches[\"Attendance\"].astype(\"int\")\n",
    "df_matches[\"Half-time Home Goals\"] = df_matches[\"Half-time Home Goals\"].astype(\"int\")\n",
    "df_matches[\"Half-time Away Goals\"] = df_matches[\"Half-time Away Goals\"].astype(\"int\")\n",
    "df_matches[\"Referee\"] = df_matches[\"Referee\"].astype(\"category\")\n",
    "df_matches[\"Assistant 1\"] = df_matches[\"Assistant 1\"].astype(\"category\")\n",
    "df_matches[\"Assistant 2\"] = df_matches[\"Assistant 2\"].astype(\"category\")\n",
    "df_matches[\"RoundID\"] = df_matches[\"RoundID\"].astype(\"int\")\n",
    "df_matches[\"MatchID\"] = df_matches[\"MatchID\"].astype(\"int\")\n",
    "df_matches[\"Home Team Initials\"] = df_matches[\"Home Team Initials\"].astype(\"category\")\n",
    "df_matches[\"Away Team Initials\"] = df_matches[\"Away Team Initials\"].astype(\"category\")\n",
    "df_matches.info()"
   ]
  },
  {
   "cell_type": "code",
   "execution_count": null,
   "metadata": {
    "colab": {
     "base_uri": "https://localhost:8080/",
     "height": 107
    },
    "colab_type": "code",
    "executionInfo": {
     "elapsed": 1210,
     "status": "ok",
     "timestamp": 1564734927344,
     "user": {
      "displayName": "Jody Thai",
      "photoUrl": "https://lh3.googleusercontent.com/-LpV78qt_WbM/AAAAAAAAAAI/AAAAAAAAAJU/cSDgYdKtTQs/s64/photo.jpg",
      "userId": "15371680425307616747"
     },
     "user_tz": -420
    },
    "id": "FFONXCX4RHxe",
    "outputId": "6d247fb3-14fd-49aa-a185-fd872ca8eb79"
   },
   "outputs": [],
   "source": [
    "df_players.head(2)"
   ]
  },
  {
   "cell_type": "code",
   "execution_count": null,
   "metadata": {
    "colab": {
     "base_uri": "https://localhost:8080/",
     "height": 265
    },
    "colab_type": "code",
    "executionInfo": {
     "elapsed": 1198,
     "status": "ok",
     "timestamp": 1564734927345,
     "user": {
      "displayName": "Jody Thai",
      "photoUrl": "https://lh3.googleusercontent.com/-LpV78qt_WbM/AAAAAAAAAAI/AAAAAAAAAJU/cSDgYdKtTQs/s64/photo.jpg",
      "userId": "15371680425307616747"
     },
     "user_tz": -420
    },
    "id": "REEQkcrQQp9p",
    "outputId": "3a440dc0-05e7-4752-aaad-eca441a493a8"
   },
   "outputs": [],
   "source": [
    "# Convert data type of Players dataset\n",
    "df_players[\"Team Initials\"] = df_players[\"Team Initials\"].astype(\"category\")\n",
    "df_players[\"Coach Name\"] = df_players[\"Coach Name\"].astype(\"category\")\n",
    "df_players[\"Line-up\"] = df_players[\"Line-up\"].astype(\"category\")\n",
    "df_players[\"Player Name\"] = df_players[\"Player Name\"].astype(\"category\")\n",
    "df_players[\"Position\"] = df_players[\"Position\"].astype(\"category\")\n",
    "df_players[\"Event\"] = df_players[\"Event\"].astype(\"category\")\n",
    "\n",
    "df_players.info()"
   ]
  },
  {
   "cell_type": "code",
   "execution_count": null,
   "metadata": {
    "colab": {
     "base_uri": "https://localhost:8080/",
     "height": 197
    },
    "colab_type": "code",
    "executionInfo": {
     "elapsed": 1183,
     "status": "ok",
     "timestamp": 1564734927346,
     "user": {
      "displayName": "Jody Thai",
      "photoUrl": "https://lh3.googleusercontent.com/-LpV78qt_WbM/AAAAAAAAAAI/AAAAAAAAAJU/cSDgYdKtTQs/s64/photo.jpg",
      "userId": "15371680425307616747"
     },
     "user_tz": -420
    },
    "id": "sGdpAZ1ETRW1",
    "outputId": "cb30bbbf-e6d9-4e1c-8c7e-c5022e1a279b"
   },
   "outputs": [],
   "source": [
    "# Process Attendance values\n",
    "df_winners = df_winners_raw.fillna('')\n",
    "df_winners[\"Attendance\"] = df_winners[\"Attendance\"].str.replace('.', '')\n",
    "df_winners.head()"
   ]
  },
  {
   "cell_type": "code",
   "execution_count": null,
   "metadata": {
    "colab": {
     "base_uri": "https://localhost:8080/",
     "height": 283
    },
    "colab_type": "code",
    "executionInfo": {
     "elapsed": 1172,
     "status": "ok",
     "timestamp": 1564734927346,
     "user": {
      "displayName": "Jody Thai",
      "photoUrl": "https://lh3.googleusercontent.com/-LpV78qt_WbM/AAAAAAAAAAI/AAAAAAAAAJU/cSDgYdKtTQs/s64/photo.jpg",
      "userId": "15371680425307616747"
     },
     "user_tz": -420
    },
    "id": "LGsQ4cifSPTR",
    "outputId": "bcebe833-d3a9-4b1b-f380-e3e6121e551c"
   },
   "outputs": [],
   "source": [
    "# Convert data type of Winners dataset\n",
    "df_winners[\"Country\"] = df_winners[\"Country\"].astype(\"category\")\n",
    "df_winners[\"Winner\"] = df_winners[\"Winner\"].astype(\"category\")\n",
    "df_winners[\"Runners-Up\"] = df_winners[\"Runners-Up\"].astype(\"category\")\n",
    "df_winners[\"Third\"] = df_winners[\"Third\"].astype(\"category\")\n",
    "df_winners[\"Fourth\"] = df_winners[\"Fourth\"].astype(\"category\")\n",
    "df_winners[\"Attendance\"] = df_winners[\"Attendance\"].astype(\"int\")\n",
    "\n",
    "df_winners.info()"
   ]
  },
  {
   "cell_type": "markdown",
   "metadata": {
    "colab_type": "text",
    "id": "FfNkGUutYoU9"
   },
   "source": [
    "#### Separate Datetime column"
   ]
  },
  {
   "cell_type": "code",
   "execution_count": null,
   "metadata": {
    "colab": {
     "base_uri": "https://localhost:8080/",
     "height": 244
    },
    "colab_type": "code",
    "executionInfo": {
     "elapsed": 1592,
     "status": "ok",
     "timestamp": 1564734927778,
     "user": {
      "displayName": "Jody Thai",
      "photoUrl": "https://lh3.googleusercontent.com/-LpV78qt_WbM/AAAAAAAAAAI/AAAAAAAAAJU/cSDgYdKtTQs/s64/photo.jpg",
      "userId": "15371680425307616747"
     },
     "user_tz": -420
    },
    "id": "AR9j3eYNuM6b",
    "outputId": "ca9225b1-ff3b-4683-b164-2389cdf0d06f"
   },
   "outputs": [],
   "source": [
    "# Separate DateTime column\n",
    "df_matches.insert(loc = 2, column=\"Time\", value=\"\")\n",
    "df_matches.head(2)"
   ]
  },
  {
   "cell_type": "code",
   "execution_count": null,
   "metadata": {
    "colab": {
     "base_uri": "https://localhost:8080/",
     "height": 244
    },
    "colab_type": "code",
    "executionInfo": {
     "elapsed": 1582,
     "status": "ok",
     "timestamp": 1564734927779,
     "user": {
      "displayName": "Jody Thai",
      "photoUrl": "https://lh3.googleusercontent.com/-LpV78qt_WbM/AAAAAAAAAAI/AAAAAAAAAJU/cSDgYdKtTQs/s64/photo.jpg",
      "userId": "15371680425307616747"
     },
     "user_tz": -420
    },
    "id": "947KckA0o2he",
    "outputId": "fa683dbf-6f46-4e88-b835-93570b3794a0"
   },
   "outputs": [],
   "source": [
    "df_matches.loc[:, 'Time'] = df_matches[\"Datetime\"].apply(lambda x: x.split('-')[1].strip())\n",
    "df_matches.loc[:, 'Datetime'] = df_matches[\"Datetime\"].apply(lambda x: x.split('-')[0].strip())\n",
    "df_matches.head(2)"
   ]
  },
  {
   "cell_type": "code",
   "execution_count": null,
   "metadata": {
    "colab": {
     "base_uri": "https://localhost:8080/",
     "height": 467
    },
    "colab_type": "code",
    "executionInfo": {
     "elapsed": 1572,
     "status": "ok",
     "timestamp": 1564734927779,
     "user": {
      "displayName": "Jody Thai",
      "photoUrl": "https://lh3.googleusercontent.com/-LpV78qt_WbM/AAAAAAAAAAI/AAAAAAAAAJU/cSDgYdKtTQs/s64/photo.jpg",
      "userId": "15371680425307616747"
     },
     "user_tz": -420
    },
    "id": "NnOxmJ3HyUzd",
    "outputId": "28a37c0e-4928-496c-c9e8-61df437beeb3"
   },
   "outputs": [],
   "source": [
    "# Rename Datetime column\n",
    "df_matches.rename(columns={'Datetime': 'Date'}, inplace=True)\n",
    "df_matches.sample(5)"
   ]
  },
  {
   "cell_type": "code",
   "execution_count": null,
   "metadata": {
    "colab": {
     "base_uri": "https://localhost:8080/",
     "height": 478
    },
    "colab_type": "code",
    "executionInfo": {
     "elapsed": 1562,
     "status": "ok",
     "timestamp": 1564734927780,
     "user": {
      "displayName": "Jody Thai",
      "photoUrl": "https://lh3.googleusercontent.com/-LpV78qt_WbM/AAAAAAAAAAI/AAAAAAAAAJU/cSDgYdKtTQs/s64/photo.jpg",
      "userId": "15371680425307616747"
     },
     "user_tz": -420
    },
    "id": "Q7ymDO-g1JI6",
    "outputId": "0b3a0cd3-360b-4954-c16d-5f4405c057df"
   },
   "outputs": [],
   "source": [
    "# Convert data types for Date & Time columns\n",
    "df_matches[\"Date\"] = df_matches[\"Date\"].astype(\"category\")\n",
    "df_matches[\"Time\"] = df_matches[\"Time\"].astype(\"category\")\n",
    "df_matches.info()"
   ]
  },
  {
   "cell_type": "markdown",
   "metadata": {
    "colab_type": "text",
    "id": "Ut-UZfIIR-Uf"
   },
   "source": [
    "#### Check data duplication"
   ]
  },
  {
   "cell_type": "code",
   "execution_count": null,
   "metadata": {
    "colab": {
     "base_uri": "https://localhost:8080/",
     "height": 34
    },
    "colab_type": "code",
    "executionInfo": {
     "elapsed": 1547,
     "status": "ok",
     "timestamp": 1564734927781,
     "user": {
      "displayName": "Jody Thai",
      "photoUrl": "https://lh3.googleusercontent.com/-LpV78qt_WbM/AAAAAAAAAAI/AAAAAAAAAJU/cSDgYdKtTQs/s64/photo.jpg",
      "userId": "15371680425307616747"
     },
     "user_tz": -420
    },
    "id": "9FzlkzKJGq-R",
    "outputId": "646fb313-b6cf-4a18-bacb-c162d564e558"
   },
   "outputs": [],
   "source": [
    "# Check duplication\n",
    "df_matches[\"MatchID\"].nunique() == df_matches[\"MatchID\"].count()"
   ]
  },
  {
   "cell_type": "code",
   "execution_count": null,
   "metadata": {
    "colab": {
     "base_uri": "https://localhost:8080/",
     "height": 117
    },
    "colab_type": "code",
    "executionInfo": {
     "elapsed": 733,
     "status": "ok",
     "timestamp": 1564735372132,
     "user": {
      "displayName": "Jody Thai",
      "photoUrl": "https://lh3.googleusercontent.com/-LpV78qt_WbM/AAAAAAAAAAI/AAAAAAAAAJU/cSDgYdKtTQs/s64/photo.jpg",
      "userId": "15371680425307616747"
     },
     "user_tz": -420
    },
    "id": "SRTBmuv3PFJY",
    "outputId": "176f6817-ccd9-4237-df34-67b7c016fe5d"
   },
   "outputs": [],
   "source": [
    "# Find duplicated rows from the dataset\n",
    "def get_duplicated_data(df, key):\n",
    "  \"\"\"\n",
    "    Return a DataFrame of duplicated data points of a given dataset\n",
    "  \"\"\"\n",
    "  \n",
    "  df_key = df[key]\n",
    "  return df[df_key.isin(df_key[df_key.duplicated()])].sort_values(key)\n",
    "  \n",
    "get_duplicated_data(df_matches, \"MatchID\")"
   ]
  },
  {
   "cell_type": "code",
   "execution_count": null,
   "metadata": {
    "colab": {},
    "colab_type": "code",
    "id": "KpsXTm_wOGNR"
   },
   "outputs": [],
   "source": [
    "df_matches.drop_duplicates(keep = 'first', inplace = True)"
   ]
  },
  {
   "cell_type": "code",
   "execution_count": null,
   "metadata": {
    "colab": {},
    "colab_type": "code",
    "id": "8olitGN8PhpY"
   },
   "outputs": [],
   "source": [
    "df_players.drop_duplicates(keep = 'first', inplace = True)"
   ]
  },
  {
   "cell_type": "markdown",
   "metadata": {
    "colab_type": "text",
    "id": "_KG-TnLswKP7"
   },
   "source": [
    "# EDA & Feature Engineering"
   ]
  },
  {
   "cell_type": "code",
   "execution_count": null,
   "metadata": {
    "colab": {
     "base_uri": "https://localhost:8080/",
     "height": 1000
    },
    "colab_type": "code",
    "executionInfo": {
     "elapsed": 1722,
     "status": "ok",
     "timestamp": 1564738390988,
     "user": {
      "displayName": "Jody Thai",
      "photoUrl": "https://lh3.googleusercontent.com/-LpV78qt_WbM/AAAAAAAAAAI/AAAAAAAAAJU/cSDgYdKtTQs/s64/photo.jpg",
      "userId": "15371680425307616747"
     },
     "user_tz": -420
    },
    "id": "-ASe58Vs31i9",
    "outputId": "f1c4c2d3-00e5-440a-ed27-bc6d3b0afbe2"
   },
   "outputs": [],
   "source": [
    "# Merge Players and Matches datasets\n",
    "\n",
    "df_matches_players = pd.merge( df_matches, df_players, how='outer', on=\"MatchID\")\n",
    "\n",
    "df_matches_players[df_matches_players['Player Name'] == 'Alex THEPOT']"
   ]
  },
  {
   "cell_type": "code",
   "execution_count": null,
   "metadata": {},
   "outputs": [],
   "source": [
    "# Input a player name and return the country name\n",
    "def get_country_name_from_player(df, player_name):\n",
    "  country_initials = df[df[\"Player Name\"] == player_name]['Team Initials'].unique()[0].lower()\n",
    "  home_team = str(df[df[\"Player Name\"] == player_name][\"Home Team Name\"].unique()[0].lower())\n",
    "  away_team = str(df[df[\"Player Name\"] == player_name][\"Away Team Name\"].unique()[0].lower())\n",
    "\n",
    "  if country_initials in home_team:\n",
    "    return home_team.capitalize()\n",
    "  else:\n",
    "    return away_team.capitalize()\n",
    "  \n",
    "get_country_name_from_player(df_matches_players, \"Juan CARRENO\")"
   ]
  },
  {
   "cell_type": "markdown",
   "metadata": {},
   "source": [
    "#### Split the Event data in order to extract more valuable insights"
   ]
  },
  {
   "cell_type": "code",
   "execution_count": null,
   "metadata": {},
   "outputs": [],
   "source": [
    "df_players = df_players.assign(Event=df_players[\"Event\"].str.split('\\s')).explode('Event').reset_index(drop=True)\n",
    "\n",
    "df_players[df_players[\"MatchID\"] == 3079]"
   ]
  },
  {
   "cell_type": "markdown",
   "metadata": {},
   "source": [
    "#### Other Features"
   ]
  },
  {
   "cell_type": "code",
   "execution_count": null,
   "metadata": {
    "colab": {
     "base_uri": "https://localhost:8080/",
     "height": 197
    },
    "colab_type": "code",
    "executionInfo": {
     "elapsed": 702,
     "status": "ok",
     "timestamp": 1564734944996,
     "user": {
      "displayName": "Jody Thai",
      "photoUrl": "https://lh3.googleusercontent.com/-LpV78qt_WbM/AAAAAAAAAAI/AAAAAAAAAJU/cSDgYdKtTQs/s64/photo.jpg",
      "userId": "15371680425307616747"
     },
     "user_tz": -420
    },
    "id": "TSl8qaeyzl7L",
    "outputId": "521adec0-777a-4d6c-8e78-484e07527212"
   },
   "outputs": [],
   "source": [
    "# Add column to indicate if a player played in a winning team\n",
    "df_players['Cup Won'] = ''\n",
    "\n",
    "def get_total_cup_by_country(df, country):\n",
    "  return df_winners[df_winners[\"Winner\"] == country][\"Winner\"].count()\n",
    "  \n",
    "# get_total_cup_by_country(df_winners, \"Brazil\")\n",
    "\n",
    "# df_players['Cup Won'] = df_players['Player Name'].apply(lambda name: get_country_name_from_player(df_matches_players, name))\n",
    "df_players['Cup Won'] = df_players['Player Name'].apply(lambda name: print(name))\n",
    "df_players.head()"
   ]
  },
  {
   "cell_type": "code",
   "execution_count": null,
   "metadata": {},
   "outputs": [],
   "source": [
    "df_matches.head()\n",
    "df_winners"
   ]
  },
  {
   "cell_type": "markdown",
   "metadata": {
    "colab_type": "text",
    "id": "55OT0KuTcbpQ"
   },
   "source": [
    "# TODO"
   ]
  },
  {
   "cell_type": "markdown",
   "metadata": {
    "colab_type": "text",
    "id": "5PBZYy0ucqSq"
   },
   "source": [
    "### Get data by Events Type"
   ]
  },
  {
   "cell_type": "code",
   "execution_count": null,
   "metadata": {
    "colab": {},
    "colab_type": "code",
    "id": "vqwL7j2fcsin"
   },
   "outputs": [],
   "source": []
  },
  {
   "cell_type": "markdown",
   "metadata": {
    "colab_type": "text",
    "id": "UjTbJ783dHSy"
   },
   "source": [
    "### Make Corr() Diagrams"
   ]
  },
  {
   "cell_type": "code",
   "execution_count": null,
   "metadata": {
    "colab": {},
    "colab_type": "code",
    "id": "oy3iT8JKdMbo"
   },
   "outputs": [],
   "source": []
  }
 ],
 "metadata": {
  "colab": {
   "collapsed_sections": [],
   "name": "Team 6 - World Cup_Duong.ipynb",
   "provenance": [
    {
     "file_id": "1XExMZLBFCa4L0IUgqAI8VewaO5lOcnfu",
     "timestamp": 1564732602139
    }
   ],
   "toc_visible": true,
   "version": "0.3.2"
  },
  "kernelspec": {
   "display_name": "Python 3",
   "language": "python",
   "name": "python3"
  },
  "language_info": {
   "codemirror_mode": {
    "name": "ipython",
    "version": 3
   },
   "file_extension": ".py",
   "mimetype": "text/x-python",
   "name": "python",
   "nbconvert_exporter": "python",
   "pygments_lexer": "ipython3",
   "version": "3.7.3"
  }
 },
 "nbformat": 4,
 "nbformat_minor": 1
}
